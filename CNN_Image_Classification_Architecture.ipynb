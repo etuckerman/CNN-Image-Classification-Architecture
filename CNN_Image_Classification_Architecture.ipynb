{
  "nbformat": 4,
  "nbformat_minor": 0,
  "metadata": {
    "colab": {
      "provenance": [],
      "authorship_tag": "ABX9TyN09+bTB+bP3ykm5153aiQ5",
      "include_colab_link": true
    },
    "kernelspec": {
      "name": "python3",
      "display_name": "Python 3"
    },
    "language_info": {
      "name": "python"
    }
  },
  "cells": [
    {
      "cell_type": "markdown",
      "metadata": {
        "id": "view-in-github",
        "colab_type": "text"
      },
      "source": [
        "<a href=\"https://colab.research.google.com/github/etuckerman/CNN-Image-Classification-Architecture/blob/main/CNN_Image_Classification_Architecture.ipynb\" target=\"_parent\"><img src=\"https://colab.research.google.com/assets/colab-badge.svg\" alt=\"Open In Colab\"/></a>"
      ]
    },
    {
      "cell_type": "code",
      "source": [
        "# Import necessary libraries\n",
        "import tensorflow as tf\n",
        "from tensorflow.keras.models import Sequential\n",
        "from tensorflow.keras.layers import Conv2D, MaxPooling2D, Flatten, Dense\n",
        "\n",
        "# Define the CNN architecture\n",
        "def create_cnn_model(input_shape, num_classes):\n",
        "    \"\"\"\n",
        "    Creates a basic CNN model for image classification.\n",
        "\n",
        "    Args:\n",
        "    input_shape (tuple): The shape of the input images (height, width, channels).\n",
        "    num_classes (int): The number of classes in the classification problem.\n",
        "\n",
        "    Returns:\n",
        "    model (tf.keras.Model): The compiled CNN model.\n",
        "    \"\"\"\n",
        "\n",
        "    # Create a sequential model\n",
        "    model = Sequential()\n",
        "\n",
        "    # Convolutional layer 1\n",
        "    model.add(Conv2D(32, (3, 3), activation='relu', input_shape=input_shape))\n",
        "    # Max-pooling layer 1\n",
        "    model.add(MaxPooling2D((2, 2)))\n",
        "\n",
        "    # Convolutional layer 2\n",
        "    model.add(Conv2D(64, (3, 3), activation='relu'))\n",
        "    # Max-pooling layer 2\n",
        "    model.add(MaxPooling2D((2, 2)))\n",
        "\n",
        "    # Convolutional layer 3\n",
        "    model.add(Conv2D(128, (3, 3), activation='relu'))\n",
        "    # Max-pooling layer 3\n",
        "    model.add(MaxPooling2D((2, 2)))\n",
        "\n",
        "    # Flatten the output\n",
        "    model.add(Flatten())\n",
        "\n",
        "    # Fully connected layer 1\n",
        "    model.add(Dense(128, activation='relu'))\n",
        "\n",
        "    # Output layer with SoftMax activation\n",
        "    model.add(Dense(num_classes, activation='softmax'))\n",
        "\n",
        "    # Compile the model\n",
        "    model.compile(optimizer='adam', loss='categorical_crossentropy', metrics=['accuracy'])\n",
        "\n",
        "    return model\n",
        "\n",
        "# Example usage:\n",
        "input_shape = (224, 224, 3)  # Adjust according to your image size and channels\n",
        "num_classes = 10  # Adjust according to your classification problem\n",
        "\n",
        "model = create_cnn_model(input_shape, num_classes)\n",
        "model.summary()"
      ],
      "metadata": {
        "colab": {
          "base_uri": "https://localhost:8080/"
        },
        "id": "vPlPcc1U1b7D",
        "outputId": "34bfadea-a1f7-4307-c790-8ac5031ec90e"
      },
      "execution_count": 2,
      "outputs": [
        {
          "output_type": "stream",
          "name": "stdout",
          "text": [
            "Model: \"sequential\"\n",
            "_________________________________________________________________\n",
            " Layer (type)                Output Shape              Param #   \n",
            "=================================================================\n",
            " conv2d (Conv2D)             (None, 222, 222, 32)      896       \n",
            "                                                                 \n",
            " max_pooling2d (MaxPooling2  (None, 111, 111, 32)      0         \n",
            " D)                                                              \n",
            "                                                                 \n",
            " conv2d_1 (Conv2D)           (None, 109, 109, 64)      18496     \n",
            "                                                                 \n",
            " max_pooling2d_1 (MaxPoolin  (None, 54, 54, 64)        0         \n",
            " g2D)                                                            \n",
            "                                                                 \n",
            " conv2d_2 (Conv2D)           (None, 52, 52, 128)       73856     \n",
            "                                                                 \n",
            " max_pooling2d_2 (MaxPoolin  (None, 26, 26, 128)       0         \n",
            " g2D)                                                            \n",
            "                                                                 \n",
            " flatten (Flatten)           (None, 86528)             0         \n",
            "                                                                 \n",
            " dense (Dense)               (None, 128)               11075712  \n",
            "                                                                 \n",
            " dense_1 (Dense)             (None, 10)                1290      \n",
            "                                                                 \n",
            "=================================================================\n",
            "Total params: 11170250 (42.61 MB)\n",
            "Trainable params: 11170250 (42.61 MB)\n",
            "Non-trainable params: 0 (0.00 Byte)\n",
            "_________________________________________________________________\n"
          ]
        }
      ]
    }
  ]
}